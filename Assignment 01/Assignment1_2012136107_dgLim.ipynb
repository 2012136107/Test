{
 "cells": [
  {
   "cell_type": "markdown",
   "metadata": {},
   "source": [
    "# 과제\n",
    "\n",
    "### 문제 1\n",
    "- a=\"Hello Python\" 문자열을 Slicing과 연결 연산자 (+)를 사용하여 \"Python Hello\"로 변경하시오.\n",
    "  - [주의] a 변수 자체에 \"Python Hello\" 문자열이 저장되어야 함"
   ]
  },
  {
   "cell_type": "code",
   "execution_count": 2,
   "metadata": {
    "scrolled": true
   },
   "outputs": [
    {
     "name": "stdout",
     "output_type": "stream",
     "text": [
      "Python world\n"
     ]
    }
   ],
   "source": [
    "a = \"Hello world\"\n",
    "a = 'Python' + a[5:]\n",
    "print(s)"
   ]
  },
  {
   "cell_type": "markdown",
   "metadata": {},
   "source": [
    "#### [풀이]\n",
    "\n",
    "-  기존 문자열 Hello world에서 5번째 자리 이후의 문자열을\n",
    "-  Slicing해와서 새로운 문자열 Python과 합쳐서 문자열을 변경한다.\n",
    "-  문자열 자료형은 변경되지 않는다."
   ]
  },
  {
   "cell_type": "markdown",
   "metadata": {},
   "source": [
    "### 문제 2\n",
    "- b=\"Hello Python World\" 문자열을 Slicing과 연결 연산자 (+)를 사용하여 \"World Python Hello\"로 변경하시오.\n",
    "  - [주의] b 변수 자체에 \"Python Hello\" 문자열이 저장되어야 함"
   ]
  },
  {
   "cell_type": "code",
   "execution_count": 4,
   "metadata": {},
   "outputs": [
    {
     "name": "stdout",
     "output_type": "stream",
     "text": [
      "World Python Hello\n",
      "World Python Hello\n"
     ]
    }
   ],
   "source": [
    "\n",
    "\n",
    "# 방법 1) 중간에 변수 b가 \"Python Hello\"로 변경 후 문자열 변경\n",
    "b = \"Hello Python World\"\n",
    "b = b[6:13] + b[:5]     \n",
    "b = 'World ' + b[:]\n",
    "print(b)\n",
    "\n",
    "\n",
    "# 방법 2) 중간에 변수 b를 바꾸지 않고 최종적으로 바꾸는 경우 \n",
    "b = \"Hello Python World\"\n",
    "b = b[13:] + b[5:13] + b[:5]\n",
    "print(b)"
   ]
  },
  {
   "cell_type": "markdown",
   "metadata": {},
   "source": [
    "#### [풀이]\n",
    "\n",
    "- [주의] b 변수 자체에 \"Python Hello\"문자열이 저장되어야\n",
    "- 한다고 써있는데, Slicing 후 문자열이 \"Worrld Python Hello\"\n",
    "- 로 저장되는데, 실행 전 b 변수의 문자열이라고 가정한다.\n",
    "\n",
    "  - 방법 1) b[6:13]의 범위는 b 문자열의 6번째 문자(P)부터 12번(' ')째 문자까지이며, b[:5]는 0번째 문자(H)부터 4번째 문자(' ')를 의미한다.\n",
    "    b[6:13] + b[:5] = Python Hello를 b에 저장한다. 그 뒤 문자열 'World'와 기존 b 문자열을 새로 저장한다."
   ]
  },
  {
   "cell_type": "markdown",
   "metadata": {},
   "source": [
    "### 문제 3\n",
    "\n",
    "- c=\"Hello\"를 \"olleH\"로 변경하시오\n",
    "  - [주의] c 변수 자체에 \"olleH\" 문자열이 저장되어야 함"
   ]
  },
  {
   "cell_type": "code",
   "execution_count": 5,
   "metadata": {},
   "outputs": [
    {
     "name": "stdout",
     "output_type": "stream",
     "text": [
      "olleH\n"
     ]
    }
   ],
   "source": [
    "c = \"Hello\"\n",
    "c = c[::-1]\n",
    "print(c)"
   ]
  },
  {
   "cell_type": "markdown",
   "metadata": {},
   "source": [
    "#### [풀이]\n",
    "\n",
    "- Slicing 형식은 [start : stop : step]이므로, \n",
    "- [::-1] 값은 -1에서부터 문자열 끝까지 출력.\n",
    "- 다시말하면, 문자열 끝부터 거꾸로 출력한다."
   ]
  },
  {
   "cell_type": "markdown",
   "metadata": {},
   "source": [
    "### 문제 4\n",
    "- s=\"python\"에 대해 다음 문제를 풀어보시오.\n",
    "  1. s[0], s[0][0], s[0][0][0]은 각각 어떤 값이 나오는지 확인하고 그 이유를 나름대로 설명해 보시오.\n",
    "  2. s[-100], s[100]은 값이 나오는지 에러가 나오는지 확인하고 그 결과에 대한 이유를 나름대로 설명해 보시오.\n",
    "  3. s[-100, 100]은 값이 나오는지 에러가 나오는지 확인하고 그 결과에 대한 이유를 나름대로 설명해 보시오.\n",
    "  4. s[1:-1]의 결과를 확인하고 그 결과에 대한 이유를 정확하게 설명하시오.\n",
    "  5. s[3:-3]의 결과를 확인하고 그 결과에 대한 이유를 정확하게 설명하시오.\n"
   ]
  },
  {
   "cell_type": "markdown",
   "metadata": {},
   "source": [
    "#### 문제 4-1\n",
    "- s=\"python\"에 대해 다음 문제를 풀어보시오.\n",
    "  - s[0], s[0][0], s[0][0][0]은 각각 어떤 값이 나오는지 확인하고 그 이유를 나름대로 설명해 보시오."
   ]
  },
  {
   "cell_type": "code",
   "execution_count": 1,
   "metadata": {},
   "outputs": [
    {
     "name": "stdout",
     "output_type": "stream",
     "text": [
      "p\n",
      "p\n",
      "p\n"
     ]
    }
   ],
   "source": [
    "s = \"python\"\n",
    "print(s[0])\n",
    "print(s[0][0])\n",
    "print(s[0][0][0])"
   ]
  },
  {
   "cell_type": "markdown",
   "metadata": {},
   "source": [
    "   #### [풀이]\n",
    "- s[0]은 s 문자열의 첫번째 문자를 가리킨다. 즉, s 객체의 첫 문자를 말한다. 따라서, 문자 p가 출력된다.\n",
    "- s[0][0]과 s[0][0][0]은 개인적인 소견으로는, 다차 배열에서 가리키는 것과 유사하다고 생각한다. 따라서, [0][0], [0][0][0]이 가리키는 것이\n",
    "  첫문자 p를 뜻한다고 생각한다."
   ]
  },
  {
   "cell_type": "markdown",
   "metadata": {},
   "source": [
    "#### 문제 4-2\n",
    "- s=\"python\"에 대해 다음 문제를 풀어보시오.\n",
    "  - s[-100], s[100]은 값이 나오는지 에러가 나오는지 확인하고 그 결과에 대한 이유를 나름대로 설명해 보시오."
   ]
  },
  {
   "cell_type": "code",
   "execution_count": 2,
   "metadata": {},
   "outputs": [
    {
     "ename": "IndexError",
     "evalue": "string index out of range",
     "output_type": "error",
     "traceback": [
      "\u001b[1;31m---------------------------------------------------------------------------\u001b[0m",
      "\u001b[1;31mIndexError\u001b[0m                                Traceback (most recent call last)",
      "\u001b[1;32m<ipython-input-2-af8fe6b0f61e>\u001b[0m in \u001b[0;36m<module>\u001b[1;34m()\u001b[0m\n\u001b[0;32m      1\u001b[0m \u001b[0ms\u001b[0m \u001b[1;33m=\u001b[0m \u001b[1;34m\"python\"\u001b[0m\u001b[1;33m\u001b[0m\u001b[0m\n\u001b[1;32m----> 2\u001b[1;33m \u001b[0mprint\u001b[0m\u001b[1;33m(\u001b[0m\u001b[0ms\u001b[0m\u001b[1;33m[\u001b[0m\u001b[1;33m-\u001b[0m\u001b[1;36m100\u001b[0m\u001b[1;33m]\u001b[0m\u001b[1;33m)\u001b[0m\u001b[1;33m\u001b[0m\u001b[0m\n\u001b[0m\u001b[0;32m      3\u001b[0m \u001b[0mprint\u001b[0m\u001b[1;33m(\u001b[0m\u001b[0ms\u001b[0m\u001b[1;33m[\u001b[0m\u001b[1;36m100\u001b[0m\u001b[1;33m]\u001b[0m\u001b[1;33m)\u001b[0m\u001b[1;33m\u001b[0m\u001b[0m\n",
      "\u001b[1;31mIndexError\u001b[0m: string index out of range"
     ]
    }
   ],
   "source": [
    "s = \"python\"\n",
    "print(s[-100])\n",
    "print(s[100])"
   ]
  },
  {
   "cell_type": "markdown",
   "metadata": {},
   "source": [
    "#### [풀이]\n",
    "- 문자열 s의 크기 len은 6이다. 그 범위를 벗어난 -100과 100은 indexError가 난다."
   ]
  },
  {
   "cell_type": "markdown",
   "metadata": {},
   "source": [
    "#### 문제 4-3\n",
    "- s=\"python\"에 대해 다음 문제를 풀어보시오.\n",
    "  - s[-100, 100]은 값이 나오는지 에러가 나오는지 확인하고 그 결과에 대한 이유를 나름대로 설명해 보시오."
   ]
  },
  {
   "cell_type": "code",
   "execution_count": 3,
   "metadata": {},
   "outputs": [
    {
     "ename": "TypeError",
     "evalue": "string indices must be integers",
     "output_type": "error",
     "traceback": [
      "\u001b[1;31m---------------------------------------------------------------------------\u001b[0m",
      "\u001b[1;31mTypeError\u001b[0m                                 Traceback (most recent call last)",
      "\u001b[1;32m<ipython-input-3-7fed5efefd64>\u001b[0m in \u001b[0;36m<module>\u001b[1;34m()\u001b[0m\n\u001b[0;32m      1\u001b[0m \u001b[0ms\u001b[0m \u001b[1;33m=\u001b[0m \u001b[1;34m\"python\"\u001b[0m\u001b[1;33m\u001b[0m\u001b[0m\n\u001b[1;32m----> 2\u001b[1;33m \u001b[0mprint\u001b[0m\u001b[1;33m(\u001b[0m\u001b[0ms\u001b[0m\u001b[1;33m[\u001b[0m\u001b[1;33m-\u001b[0m\u001b[1;36m100\u001b[0m\u001b[1;33m,\u001b[0m \u001b[1;36m100\u001b[0m\u001b[1;33m]\u001b[0m\u001b[1;33m)\u001b[0m\u001b[1;33m\u001b[0m\u001b[0m\n\u001b[0m",
      "\u001b[1;31mTypeError\u001b[0m: string indices must be integers"
     ]
    }
   ],
   "source": [
    "s = \"python\"\n",
    "print(s[-100, 100])"
   ]
  },
  {
   "cell_type": "markdown",
   "metadata": {},
   "source": [
    "#### [풀이]\n",
    "- 지금까지 문자열과는 달리 [-100, 100]은 튜플을 의미하며, 튜플의 범위는 정수 값이다. 따라서, 에러가 발생한다."
   ]
  },
  {
   "cell_type": "markdown",
   "metadata": {},
   "source": [
    "#### 문제 4-4\n",
    "- s=\"python\"에 대해 다음 문제를 풀어보시오.\n",
    "  - s[1:-1]의 결과를 확인하고 그 결과에 대한 이유를 정확하게 설명하시오."
   ]
  },
  {
   "cell_type": "code",
   "execution_count": 4,
   "metadata": {},
   "outputs": [
    {
     "data": {
      "text/plain": [
       "'ytho'"
      ]
     },
     "execution_count": 4,
     "metadata": {},
     "output_type": "execute_result"
    }
   ],
   "source": [
    "s = \"python\"\n",
    "s[1:-1]"
   ]
  },
  {
   "cell_type": "markdown",
   "metadata": {
    "collapsed": true
   },
   "source": [
    "#### [풀이]\n",
    "- s[1:-1]은 문자열 s에서 s[1]에서 s[-1]전 까지의 범위를 뜻한다. 이 때, python에서 문자열은 0번 부터 시작하기 때문에,\n",
    "  1에 해당하는 문자는 y, -1은 문자열 맨 끝에서부터 첫 문자를 뜻하므로 범위에 해당하는 문자열은 'ytho'이다. "
   ]
  },
  {
   "cell_type": "markdown",
   "metadata": {},
   "source": [
    "#### 문제 4-5\n",
    "- s=\"python\"에 대해 다음 문제를 풀어보시오.\n",
    "  - s[3:-3]의 결과를 확인하고 그 결과에 대한 이유를 정확하게 설명하시오."
   ]
  },
  {
   "cell_type": "code",
   "execution_count": 5,
   "metadata": {},
   "outputs": [
    {
     "data": {
      "text/plain": [
       "''"
      ]
     },
     "execution_count": 5,
     "metadata": {},
     "output_type": "execute_result"
    }
   ],
   "source": [
    "s = \"python\"\n",
    "s[3:-3]"
   ]
  },
  {
   "cell_type": "markdown",
   "metadata": {},
   "source": [
    "#### [풀이]\n",
    "- 위 문제와 같이, s[3:-3]은 문자열 s에서 s[3]에서 s[-3]전 까지의 범위를 뜻한다. 이 때, python에서 문자열은 0번부터 시작하기 때문에, 3에 해당하는 문자는 h, -3 전 문자에 해당하는 문자는 t이기 때문에 범위 내에 문자가 없으므로 아무것도 출력되지 않는다."
   ]
  },
  {
   "cell_type": "markdown",
   "metadata": {
    "collapsed": true
   },
   "source": [
    "### 문제 5\n",
    "- for문을 활용하여 1부터 100사이의 홀수를 출력하시오."
   ]
  },
  {
   "cell_type": "code",
   "execution_count": 1,
   "metadata": {},
   "outputs": [
    {
     "name": "stdout",
     "output_type": "stream",
     "text": [
      "1\n",
      "3\n",
      "5\n",
      "7\n",
      "9\n",
      "11\n",
      "13\n",
      "15\n",
      "17\n",
      "19\n",
      "21\n",
      "23\n",
      "25\n",
      "27\n",
      "29\n",
      "31\n",
      "33\n",
      "35\n",
      "37\n",
      "39\n",
      "41\n",
      "43\n",
      "45\n",
      "47\n",
      "49\n",
      "51\n",
      "53\n",
      "55\n",
      "57\n",
      "59\n",
      "61\n",
      "63\n",
      "65\n",
      "67\n",
      "69\n",
      "71\n",
      "73\n",
      "75\n",
      "77\n",
      "79\n",
      "81\n",
      "83\n",
      "85\n",
      "87\n",
      "89\n",
      "91\n",
      "93\n",
      "95\n",
      "97\n",
      "99\n",
      "\n",
      "1\n",
      "3\n",
      "5\n",
      "7\n",
      "9\n",
      "11\n",
      "13\n",
      "15\n",
      "17\n",
      "19\n",
      "21\n",
      "23\n",
      "25\n",
      "27\n",
      "29\n",
      "31\n",
      "33\n",
      "35\n",
      "37\n",
      "39\n",
      "41\n",
      "43\n",
      "45\n",
      "47\n",
      "49\n",
      "51\n",
      "53\n",
      "55\n",
      "57\n",
      "59\n",
      "61\n",
      "63\n",
      "65\n",
      "67\n",
      "69\n",
      "71\n",
      "73\n",
      "75\n",
      "77\n",
      "79\n",
      "81\n",
      "83\n",
      "85\n",
      "87\n",
      "89\n",
      "91\n",
      "93\n",
      "95\n",
      "97\n",
      "99\n",
      "3\n",
      "7\n",
      "11\n"
     ]
    }
   ],
   "source": [
    "# 방법 1)\n",
    "for i in range(1,100,2):\n",
    "    print(i)\n",
    "print()\n",
    "\n",
    "# 방법 2)\n",
    "a = range(1,100,2)\n",
    "for i in a:\n",
    "    print(i)\n",
    "    \n",
    "    \n",
    "# cf) for의 다양한 사용\n",
    "a = [(1,2), (3,4), (5,6)]\n",
    "for (first, last) in a:\n",
    "    print(first + last)"
   ]
  },
  {
   "cell_type": "markdown",
   "metadata": {},
   "source": [
    "#### [풀이]\n",
    "  \n",
    "- range(a, b) : a이상 b미만의 범위\n",
    "- range(a, b, c) : a 이상 b미만의 범위에서 c차이씩 나는 것.\n",
    "- for i in range(1, 100, 2)은, 자연수 1에서 100까지의 값 범위에서 시작 수 1에 2씩 차이나는 값을 출력해주기 위한 반복문이다. \n"
   ]
  },
  {
   "cell_type": "markdown",
   "metadata": {},
   "source": [
    "### 문제 6\n",
    "- while문을 활용하여 1부터 100사이의 짝수의 합을 계산하여 출력하시오."
   ]
  },
  {
   "cell_type": "code",
   "execution_count": 1,
   "metadata": {},
   "outputs": [
    {
     "name": "stdout",
     "output_type": "stream",
     "text": [
      "2652\n"
     ]
    }
   ],
   "source": [
    "# 설정 범위는 0 < i <= 100 사이의 숫자.\n",
    "\n",
    "i = 0\n",
    "sum = 0\n",
    "while i <= 100:\n",
    "    i = i + 2\n",
    "    sum = sum + i\n",
    "print(sum)"
   ]
  },
  {
   "cell_type": "markdown",
   "metadata": {},
   "source": [
    "### 문제 7\n",
    "- 사용자로부터 임의의 정수를 입력받고, 해당 숫자를 역순으로 출력하는 프로그램을 작성하시오.\n",
    "\n",
    "  - [실행 예]\n",
    "     - 정수를 입력하세요: 3125\n",
    "     - 숫자 역순은 5123 입니다."
   ]
  },
  {
   "cell_type": "code",
   "execution_count": 2,
   "metadata": {},
   "outputs": [
    {
     "name": "stdout",
     "output_type": "stream",
     "text": [
      "정수를 입력하세요:3125\n",
      "숫자 역순은 5213입니다.\n"
     ]
    }
   ],
   "source": [
    "number = input(\"정수를 입력하세요:\")\n",
    "print(\"숫자 역순은 \" + number[::-1] + \"입니다.\")"
   ]
  },
  {
   "cell_type": "markdown",
   "metadata": {},
   "source": [
    "#### [풀이]\n",
    "\n",
    "- Slicing 형식은 [start : stop : step]이므로, \n",
    "- [::-1] 값은 -1에서부터 문자열 끝까지 출력.\n",
    "- 다시말하면, 문자열 끝부터 거꾸로 출력한다."
   ]
  },
  {
   "cell_type": "markdown",
   "metadata": {},
   "source": [
    "### 문제 8\n",
    "- 사용자로부터 정수를 입력받아서 1부터 그 사이에 존재하는 소수(Prime number)를 출력하는 파이썬 프로그램을 작성하시오."
   ]
  },
  {
   "cell_type": "code",
   "execution_count": 2,
   "metadata": {},
   "outputs": [
    {
     "name": "stdout",
     "output_type": "stream",
     "text": [
      "정수를 입력하세요:10\n",
      "입력받은 정수 : \n",
      "10\n",
      "2\n",
      "3\n",
      "5\n",
      "7\n"
     ]
    }
   ],
   "source": [
    "number = int(input(\"정수를 입력하세요:\"))\n",
    "print(\"입력받은 정수 : \")\n",
    "print(number)\n",
    "\n",
    "i = 2\n",
    "cnt = 2\n",
    "count = 0\n",
    "\n",
    "while i <= number:\n",
    "    count = 0\n",
    "    while cnt < i:\n",
    "        if i%cnt == 0:      # 소수가 아닐 조건\n",
    "            count = 1\n",
    "            break\n",
    "        else:\n",
    "            cnt = cnt + 1\n",
    "    if count == 0:          # 소수 출력\n",
    "        print(i)\n",
    "    i = i + 1 \n",
    "    cnt = 2                 # 초기화\n",
    "    \n",
    "    "
   ]
  },
  {
   "cell_type": "markdown",
   "metadata": {},
   "source": [
    "#### [풀이]\n",
    "\n",
    "-  소수(Prime number)란, 1과 자기자신 외에 나눠지는 수가 없는 수\n",
    "-  input으로 받은 정수는 int 타입이 아니라 str 타입이다.\n",
    "    - number = input(\"정수를 입력하세요:\")\n",
    "    - 따라서 형변환 해줘야함.\n",
    "      - number = int(input(\"정수를 입력하세요:\"))\n",
    "      \n",
    "- 소수일 조건을 보면, 1, 자기자신을 제외한 나머지로 나뉘는 수가 없어야한다라는 것이고, i%cnt != 0 이다."
   ]
  },
  {
   "cell_type": "markdown",
   "metadata": {},
   "source": [
    "### [ACM-ICPC 문제 2439번]\n",
    "- 별찍기-2\n",
    "  - https://www.acmicpc.net/problem/2439\n",
    " "
   ]
  },
  {
   "cell_type": "code",
   "execution_count": 1,
   "metadata": {},
   "outputs": [
    {
     "name": "stdout",
     "output_type": "stream",
     "text": [
      "5\n",
      "    *\n",
      "   **\n",
      "  ***\n",
      " ****\n",
      "*****\n"
     ]
    }
   ],
   "source": [
    "n = input()\n",
    "n = int(n)\n",
    "\n",
    "j = 1\n",
    "\n",
    "while j <= n:\n",
    "    print (' ' * (n-j) + '*' * (j))\n",
    "    j = j+1"
   ]
  },
  {
   "cell_type": "markdown",
   "metadata": {},
   "source": [
    "#### [풀이]\n",
    "\n",
    "- 몇 번째 줄까지 출력할 것인지에 대한 입력 값 n를 받는다. \n",
    "  - 예를 들면, n = 5일 때,\n",
    "  ' ' 공백 출력 횟수 : n-j는 (5-1)~(5-5) 4, 3, 2, 1, 0회, * 출력 횟수 j는 1 ~ 5 즉, 1, 2, 3, 4, 5회 출력한다."
   ]
  },
  {
   "cell_type": "markdown",
   "metadata": {},
   "source": [
    "### [ACM-ICPC 문제 1924번]\n",
    "- 2007년\n",
    "  - https://www.acmicpc.net/problem/1924"
   ]
  },
  {
   "cell_type": "code",
   "execution_count": 1,
   "metadata": {},
   "outputs": [
    {
     "name": "stdout",
     "output_type": "stream",
     "text": [
      "1 1\n",
      "MON\n"
     ]
    }
   ],
   "source": [
    "x, y = input().split()\n",
    "x = int(x)\n",
    "y = int(y)\n",
    "\n",
    "day = 1\n",
    "total = 0\n",
    "day_w = ['MON','TUE','WED','THU','FRI','SAT','SUN']\n",
    "\n",
    "i = 1\n",
    "total = 0\n",
    "\n",
    "while i < x:\n",
    "    if i == 2:\n",
    "        day = 28\n",
    "    elif (i == 4) or (i == 6) or (i == 9) or (i == 11):\n",
    "        day = 30\n",
    "    else:\n",
    "        day = 31\n",
    "    i = i + 1\n",
    "    total = total + day\n",
    "\n",
    "total = total + y - 1;\n",
    "\n",
    "print(day_w[total%7])"
   ]
  },
  {
   "cell_type": "markdown",
   "metadata": {},
   "source": [
    "#### [풀이]\n",
    "- input().spilt() 메소드는 입력받는 문자열을 공백을 기준으로 쪼개서 입력받는 메소드다.\n",
    "  - 단, 입력 받는 타입은 str이므로, 우리는 형변환을 통해 int형으로 바꿔준다.\n",
    "- day_w 튜플에는 각 요일에 해당하는 문자열을 저장한다.\n",
    "- 반복문 i < x에 대한 조건과 내용은 입력받은 월에 해당하는 x에 따라서 1월 1일 기준으로 며칠이 지났는지를 합산하는 조건문이 들어간다.\n",
    "- 마지막 total즉, 1월 1일 기준으로 며칠인지를 구하는데 -1을 해주는 이유는 기준이 1월1일이고, day_w 튜플의 첫 문자 월요일의 값이 0번째이기\n",
    "  때문이다."
   ]
  },
  {
   "cell_type": "markdown",
   "metadata": {},
   "source": [
    "### [ACM-ICPC 문제 11720번]\n",
    "- 숫자의 합\n",
    "  - https://www.acmicpc.net/problem/11720"
   ]
  },
  {
   "cell_type": "code",
   "execution_count": 2,
   "metadata": {},
   "outputs": [
    {
     "name": "stdout",
     "output_type": "stream",
     "text": [
      "5\n",
      "54321\n",
      "15\n"
     ]
    }
   ],
   "source": [
    "input()\n",
    "sc = input()\n",
    "a = len(sc)\n",
    "sum = 0\n",
    "a = a-1\n",
    "\n",
    "while a >= 0:\n",
    "    sum = sum + int(sc[a])\n",
    "    a = a - 1\n",
    "    \n",
    "print(sum)"
   ]
  },
  {
   "cell_type": "markdown",
   "metadata": {},
   "source": [
    "#### [풀이] \n",
    "\n",
    "- 위 문제는 입력받은 숫자들의 합산을 구하는 문제이다.\n",
    "- 입력 유형은 우선, 숫자를 몇 개 입력할 것인지를 받고, 문자열을 통해 입력받을 숫자를 입력받는다.\n",
    "  - 여기서 중점으로 두어야 할 것은, sc 문자열의 각 항의 값을 숫자로 받아들여 합산을 구해야한다는 점이다.\n",
    "  따라서, sc의 길이에서 -1을 한 값(범위)를 a에 재정의하고, sc 문자열의 각 값을 형변환하여 합산한다."
   ]
  },
  {
   "cell_type": "markdown",
   "metadata": {},
   "source": [
    "<img src=\"img/assignment1.png\" height = 50%>"
   ]
  }
 ],
 "metadata": {
  "kernelspec": {
   "display_name": "Python 3",
   "language": "python",
   "name": "python3"
  },
  "language_info": {
   "codemirror_mode": {
    "name": "ipython",
    "version": 3
   },
   "file_extension": ".py",
   "mimetype": "text/x-python",
   "name": "python",
   "nbconvert_exporter": "python",
   "pygments_lexer": "ipython3",
   "version": "3.6.1"
  }
 },
 "nbformat": 4,
 "nbformat_minor": 2
}
